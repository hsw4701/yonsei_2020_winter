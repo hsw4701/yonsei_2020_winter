{
 "cells": [
  {
   "cell_type": "code",
   "execution_count": null,
   "metadata": {},
   "outputs": [],
   "source": [
    "def solution(A):\n",
    "    A1=set(A)\n",
    "    A2=set(range(1,max(A1)+1))\n",
    "    sol=[]\n",
    "    if len(A2-A1) == 0 and len(A2) == 0 :\n",
    "        sol.append(1)\n",
    "    elif len(A2-A1) == 0 and len(A2) > 0 :\n",
    "        sol.append(max(A2)+1)\n",
    "    else:\n",
    "        sol.append(min(A2-A1))\n",
    "    return sol[0]"
   ]
  }
 ],
 "metadata": {
  "kernelspec": {
   "display_name": "Python 3",
   "language": "python",
   "name": "python3"
  },
  "language_info": {
   "codemirror_mode": {
    "name": "ipython",
    "version": 3
   },
   "file_extension": ".py",
   "mimetype": "text/x-python",
   "name": "python",
   "nbconvert_exporter": "python",
   "pygments_lexer": "ipython3",
   "version": "3.7.4"
  }
 },
 "nbformat": 4,
 "nbformat_minor": 2
}
