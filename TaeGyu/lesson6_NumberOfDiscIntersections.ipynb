{
 "cells": [
  {
   "cell_type": "code",
   "execution_count": 10,
   "metadata": {},
   "outputs": [
    {
     "data": {
      "text/plain": [
       "11"
      ]
     },
     "execution_count": 10,
     "metadata": {},
     "output_type": "execute_result"
    }
   ],
   "source": [
    "A = [1,5,2,1,4,0]\n",
    "n = len(A)\n",
    "edge = 0\n",
    "result = 0\n",
    "j = 0\n",
    "while j < n-1:\n",
    "    for i in range(j+1,n):\n",
    "        if i - j <= A[i] + A[j]:\n",
    "            edge += 1\n",
    "    j += 1\n",
    "    result += edge\n",
    "    edge = 0\n",
    "if result > 10**7:\n",
    "    result = -1\n",
    "result"
   ]
  },
  {
   "cell_type": "markdown",
   "metadata": {},
   "source": [
    "# O(n^2)"
   ]
  },
  {
   "cell_type": "code",
   "execution_count": 8,
   "metadata": {},
   "outputs": [
    {
     "data": {
      "text/plain": [
       "11"
      ]
     },
     "execution_count": 8,
     "metadata": {},
     "output_type": "execute_result"
    }
   ],
   "source": [
    "A = [1,5,2,1,4,0]\n",
    "edge = 0\n",
    "j = 0\n",
    "while j < len(A)-1:\n",
    "    for i in range(j+1,len(A)):\n",
    "        if i - j <= A[i] + A[j]:\n",
    "            edge += 1\n",
    "    j += 1\n",
    "if edge > 10**7:\n",
    "    edge = -1\n",
    "edge"
   ]
  },
  {
   "cell_type": "code",
   "execution_count": 7,
   "metadata": {},
   "outputs": [
    {
     "data": {
      "text/plain": [
       "81"
      ]
     },
     "execution_count": 7,
     "metadata": {},
     "output_type": "execute_result"
    }
   ],
   "source": [
    "3**4"
   ]
  },
  {
   "cell_type": "code",
   "execution_count": null,
   "metadata": {},
   "outputs": [],
   "source": []
  }
 ],
 "metadata": {
  "kernelspec": {
   "display_name": "Python 3",
   "language": "python",
   "name": "python3"
  },
  "language_info": {
   "codemirror_mode": {
    "name": "ipython",
    "version": 3
   },
   "file_extension": ".py",
   "mimetype": "text/x-python",
   "name": "python",
   "nbconvert_exporter": "python",
   "pygments_lexer": "ipython3",
   "version": "3.6.8"
  }
 },
 "nbformat": 4,
 "nbformat_minor": 2
}
