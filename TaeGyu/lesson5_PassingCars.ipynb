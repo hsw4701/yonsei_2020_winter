{
 "cells": [
  {
   "cell_type": "markdown",
   "metadata": {},
   "source": [
    "# O(n^2)"
   ]
  },
  {
   "cell_type": "code",
   "execution_count": 7,
   "metadata": {},
   "outputs": [
    {
     "name": "stdout",
     "output_type": "stream",
     "text": [
      "[1, 0, 0]\n"
     ]
    },
    {
     "data": {
      "text/plain": [
       "1"
      ]
     },
     "execution_count": 7,
     "metadata": {},
     "output_type": "execute_result"
    }
   ],
   "source": [
    "A=[1,0,1,0,0]\n",
    "def solution(A):\n",
    "    X=[]\n",
    "    for i in range(len(A)):\n",
    "        if A[i] == 0:\n",
    "            X.append(sum(A[i:]))\n",
    "    if sum(X) > 1000000000:\n",
    "        return -1\n",
    "    return sum(X)"
   ]
  },
  {
   "cell_type": "markdown",
   "metadata": {},
   "source": [
    "# O(n) : 뒤에서부터 1 카운트"
   ]
  },
  {
   "cell_type": "code",
   "execution_count": 8,
   "metadata": {},
   "outputs": [
    {
     "name": "stdout",
     "output_type": "stream",
     "text": [
      "5\n"
     ]
    }
   ],
   "source": [
    "A=[0,1,0,1,1]\n",
    "\n",
    "def solution(A):\n",
    "    n=len(A)\n",
    "    count=0\n",
    "    result=0\n",
    "    while n >= 1:\n",
    "        if A[n-1] == 1:\n",
    "            count += 1\n",
    "        else:\n",
    "            result += count\n",
    "        n -= 1\n",
    "    if result > 1000000000:\n",
    "        result = -1\n",
    "    return result"
   ]
  },
  {
   "cell_type": "markdown",
   "metadata": {},
   "source": [
    "# O(n) 앞에서부터 0 카운트"
   ]
  },
  {
   "cell_type": "code",
   "execution_count": null,
   "metadata": {},
   "outputs": [],
   "source": [
    "def solution(A):\n",
    "    count=0\n",
    "    result=0\n",
    "    for i in A:\n",
    "        if i == 0:\n",
    "            count += 1\n",
    "        else:\n",
    "            result += count\n",
    "    if result > 1000000000:\n",
    "        result = -1\n",
    "    return result\n"
   ]
  }
 ],
 "metadata": {
  "kernelspec": {
   "display_name": "Python 3",
   "language": "python",
   "name": "python3"
  },
  "language_info": {
   "codemirror_mode": {
    "name": "ipython",
    "version": 3
   },
   "file_extension": ".py",
   "mimetype": "text/x-python",
   "name": "python",
   "nbconvert_exporter": "python",
   "pygments_lexer": "ipython3",
   "version": "3.6.8"
  }
 },
 "nbformat": 4,
 "nbformat_minor": 2
}
