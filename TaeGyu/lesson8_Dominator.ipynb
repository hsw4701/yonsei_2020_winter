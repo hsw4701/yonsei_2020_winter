{
 "cells": [
  {
   "cell_type": "markdown",
   "metadata": {},
   "source": [
    "# O(n)"
   ]
  },
  {
   "cell_type": "code",
   "execution_count": 5,
   "metadata": {},
   "outputs": [
    {
     "data": {
      "text/plain": [
       "0"
      ]
     },
     "execution_count": 5,
     "metadata": {},
     "output_type": "execute_result"
    }
   ],
   "source": [
    "A = [3,4,3,2,3,3,-1,3]\n",
    "def solution(A):\n",
    "    n = len(A)\n",
    "    size = 0\n",
    "    candidate = -1\n",
    "    dominator = -1\n",
    "    dom_index=[]\n",
    "    for i in range(n):\n",
    "        if size == 0:\n",
    "            size += 1\n",
    "            value = A[i]\n",
    "        else:\n",
    "            if value != A[i]:\n",
    "                size -= 1\n",
    "            else:\n",
    "                size += 1\n",
    "    if size > 0:\n",
    "        candidate = value\n",
    "    count = 0\n",
    "    for i in range(n):\n",
    "        if A[i] == candidate:\n",
    "            count += 1\n",
    "            dom_index.append(i)\n",
    "    if count > n // 2:\n",
    "        dominator = candidate\n",
    "    if dominator != -1:\n",
    "        return dom_index[0]\n",
    "    return -1\n",
    "solution(A)"
   ]
  }
 ],
 "metadata": {
  "kernelspec": {
   "display_name": "Python 3",
   "language": "python",
   "name": "python3"
  },
  "language_info": {
   "codemirror_mode": {
    "name": "ipython",
    "version": 3
   },
   "file_extension": ".py",
   "mimetype": "text/x-python",
   "name": "python",
   "nbconvert_exporter": "python",
   "pygments_lexer": "ipython3",
   "version": "3.7.4"
  }
 },
 "nbformat": 4,
 "nbformat_minor": 2
}
