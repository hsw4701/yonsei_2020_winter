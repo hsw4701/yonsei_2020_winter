{
 "cells": [
  {
   "cell_type": "markdown",
   "metadata": {},
   "source": [
    "# O(N*M)"
   ]
  },
  {
   "cell_type": "code",
   "execution_count": 48,
   "metadata": {},
   "outputs": [
    {
     "name": "stdout",
     "output_type": "stream",
     "text": [
      "[{'G', 'C'}, {'T'}, {'T', 'G', 'C', 'A'}] [2, 4, 1]\n"
     ]
    }
   ],
   "source": [
    "def solution(S,P,Q):\n",
    "    DNA=\"ACGT\"\n",
    "    M=len(P)\n",
    "    MDNA=[]\n",
    "    fac=[]\n",
    "    for i in range(M):\n",
    "        MDNA.append(set(S[P[i]:Q[i]+1]))\n",
    "    for i in range(M):\n",
    "        if 'A' in MDNA[i]:\n",
    "            MDNA_fac.append(1)\n",
    "        elif 'C' in MDNA[i]:\n",
    "            MDNA_fac.append(2)\n",
    "        elif 'G' in MDNA[i]:\n",
    "            MDNA_fac.append(3)\n",
    "        elif 'T' in MDNA[i]:\n",
    "            MDNA_fac.append(4)\n",
    "    return MDNA_fac\n",
    "print(MDNA,MDNA_fac)"
   ]
  },
  {
   "cell_type": "markdown",
   "metadata": {},
   "source": [
    "# O(N*M)"
   ]
  },
  {
   "cell_type": "code",
   "execution_count": 121,
   "metadata": {},
   "outputs": [
    {
     "name": "stdout",
     "output_type": "stream",
     "text": [
      "[2, 4, 1]\n"
     ]
    }
   ],
   "source": [
    "S=\"CAGCCTA\"\n",
    "P=[2,5,0]\n",
    "Q=[4,5,6]\n",
    "def solution(S,P,Q):\n",
    "    S_num=\"\"\n",
    "    fac=[]\n",
    "    DNA={'A':'1', 'C':'2', 'G':'3', 'T':'4'}\n",
    "    M=len(P)\n",
    "    for i in range(len(S)):\n",
    "        S_num += DNA[S[i]]\n",
    "    for i in range(M):\n",
    "        fac.append(int(min(S_num[P[i]:Q[i]+1])))\n",
    "    return fac\n",
    "print(solution(S,P,Q))"
   ]
  },
  {
   "cell_type": "markdown",
   "metadata": {},
   "source": [
    "# O(N+M)"
   ]
  },
  {
   "cell_type": "code",
   "execution_count": 135,
   "metadata": {},
   "outputs": [
    {
     "name": "stdout",
     "output_type": "stream",
     "text": [
      "[[0, 0, 0, 0], [0, 1, 0, 0], [1, 1, 0, 0], [1, 1, 1, 0], [1, 2, 1, 0], [1, 3, 1, 0], [1, 3, 1, 1], [2, 3, 1, 1]] [2, 4, 1]\n"
     ]
    }
   ],
   "source": [
    "S=\"CAGCCTA\"\n",
    "P=[2,5,0]\n",
    "Q=[4,5,6]\n",
    "def solution(S,P,Q):\n",
    "    counter=[0,0,0,0]\n",
    "    X=[[0,0,0,0]]\n",
    "    result=[]\n",
    "    for i in S:\n",
    "        if i == \"A\":\n",
    "            counter[0] += 1\n",
    "            X.append(counter[:])\n",
    "        elif i == \"C\":\n",
    "            counter[1] += 1\n",
    "            X.append(counter[:])\n",
    "        elif i == \"G\":\n",
    "            counter[2] += 1\n",
    "            X.append(counter[:])\n",
    "        elif i == \"T\":\n",
    "            counter[3] += 1\n",
    "            X.append(counter[:])\n",
    "    for i in range(len(P)):\n",
    "        for j in range(4):\n",
    "            a=X[Q[i]+1][j]-X[P[i]][j]\n",
    "            if a != 0:\n",
    "                result.append(j+1)\n",
    "                break\n",
    "    return result\n",
    "print(X,result)"
   ]
  },
  {
   "cell_type": "code",
   "execution_count": null,
   "metadata": {},
   "outputs": [],
   "source": []
  }
 ],
 "metadata": {
  "kernelspec": {
   "display_name": "Python 3",
   "language": "python",
   "name": "python3"
  },
  "language_info": {
   "codemirror_mode": {
    "name": "ipython",
    "version": 3
   },
   "file_extension": ".py",
   "mimetype": "text/x-python",
   "name": "python",
   "nbconvert_exporter": "python",
   "pygments_lexer": "ipython3",
   "version": "3.6.8"
  }
 },
 "nbformat": 4,
 "nbformat_minor": 2
}
