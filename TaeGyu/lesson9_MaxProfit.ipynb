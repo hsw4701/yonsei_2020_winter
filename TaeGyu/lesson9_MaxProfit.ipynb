{
 "cells": [
  {
   "cell_type": "markdown",
   "metadata": {},
   "source": [
    "# O(n)"
   ]
  },
  {
   "cell_type": "code",
   "execution_count": 4,
   "metadata": {},
   "outputs": [
    {
     "data": {
      "text/plain": [
       "356"
      ]
     },
     "execution_count": 4,
     "metadata": {},
     "output_type": "execute_result"
    }
   ],
   "source": [
    "A=[23171, 21011, 21123, 21366, 21013, 21367]\n",
    "def solution(A):\n",
    "    diff = []\n",
    "    for i in range(len(A)-1):\n",
    "        diff.append(A[i+1]-A[i])\n",
    "    max_ending = max_slice = 0\n",
    "    for i in diff:\n",
    "        max_ending = max(0, max_ending+i)\n",
    "        max_slice = max(max_slice, max_ending)\n",
    "    return max_slice"
   ]
  }
 ],
 "metadata": {
  "kernelspec": {
   "display_name": "Python 3",
   "language": "python",
   "name": "python3"
  },
  "language_info": {
   "codemirror_mode": {
    "name": "ipython",
    "version": 3
   },
   "file_extension": ".py",
   "mimetype": "text/x-python",
   "name": "python",
   "nbconvert_exporter": "python",
   "pygments_lexer": "ipython3",
   "version": "3.6.8"
  }
 },
 "nbformat": 4,
 "nbformat_minor": 2
}
