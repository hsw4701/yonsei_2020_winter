{
 "cells": [
  {
   "cell_type": "markdown",
   "metadata": {},
   "source": [
    "# O(n)"
   ]
  },
  {
   "cell_type": "code",
   "execution_count": 8,
   "metadata": {},
   "outputs": [
    {
     "data": {
      "text/plain": [
       "0"
      ]
     },
     "execution_count": 8,
     "metadata": {},
     "output_type": "execute_result"
    }
   ],
   "source": [
    "S=\"()(()()(((()())(()()))\"\n",
    "def solution(S):\n",
    "    stack=[]\n",
    "    for i in S:\n",
    "        n = len(stack)\n",
    "        if i == \"(\":\n",
    "            stack.append(i)\n",
    "        elif i == \")\" and n > 0:\n",
    "            stack.pop()\n",
    "        elif i == \")\" and n == 0:\n",
    "            return 0\n",
    "    if len(stack) > 0:\n",
    "        return 0\n",
    "    return 1\n",
    "solution(S)"
   ]
  }
 ],
 "metadata": {
  "kernelspec": {
   "display_name": "Python 3",
   "language": "python",
   "name": "python3"
  },
  "language_info": {
   "codemirror_mode": {
    "name": "ipython",
    "version": 3
   },
   "file_extension": ".py",
   "mimetype": "text/x-python",
   "name": "python",
   "nbconvert_exporter": "python",
   "pygments_lexer": "ipython3",
   "version": "3.7.4"
  }
 },
 "nbformat": 4,
 "nbformat_minor": 2
}
