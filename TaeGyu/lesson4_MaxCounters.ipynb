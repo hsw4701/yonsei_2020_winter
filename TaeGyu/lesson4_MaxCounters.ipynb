{
 "cells": [
  {
   "cell_type": "markdown",
   "metadata": {},
   "source": [
    "# O(N*M)"
   ]
  },
  {
   "cell_type": "code",
   "execution_count": null,
   "metadata": {},
   "outputs": [],
   "source": [
    "A=[3,4,4,6,1,4,4]\n",
    "def solution(N,A):\n",
    "    count=[0]*N\n",
    "    for i in range(len(A)):\n",
    "        if A[i] != N+1:\n",
    "            count[A[i]-1] += 1\n",
    "        if A[i] == N+1:\n",
    "            count=[max(count)]*N\n",
    "    return count\n",
    "solution(5,A)"
   ]
  },
  {
   "cell_type": "markdown",
   "metadata": {},
   "source": [
    "# O(N+M)"
   ]
  },
  {
   "cell_type": "code",
   "execution_count": 22,
   "metadata": {},
   "outputs": [
    {
     "data": {
      "text/plain": [
       "[3, 2, 2, 4, 2]"
      ]
     },
     "execution_count": 22,
     "metadata": {},
     "output_type": "execute_result"
    }
   ],
   "source": [
    "A=[3,4,4,6,1,4,4]\n",
    "def solution(N,A):\n",
    "    count=[0]*N\n",
    "    M=set([])\n",
    "    for i in range(len(A)):\n",
    "        if A[i] != N+1:\n",
    "            count[A[i]-1] += 1\n",
    "            M.add(count[A[i]-1])\n",
    "        else:\n",
    "            count=[len(M)]*N\n",
    "    return count\n",
    "solution(5,A)"
   ]
  },
  {
   "cell_type": "code",
   "execution_count": 21,
   "metadata": {},
   "outputs": [
    {
     "data": {
      "text/plain": [
       "[1, 0, 1, 4, 0]"
      ]
     },
     "execution_count": 21,
     "metadata": {},
     "output_type": "execute_result"
    }
   ],
   "source": [
    "A=[3,4,4,6,1,4,4]\n",
    "def solution(N,A):\n",
    "    count=[0]*N\n",
    "    for i in range(len(A)):\n",
    "        if A[i] != N+1:\n",
    "            count[A[i]-1] += 1\n",
    "    return count\n",
    "solution(5,A)"
   ]
  },
  {
   "cell_type": "code",
   "execution_count": null,
   "metadata": {},
   "outputs": [],
   "source": []
  }
 ],
 "metadata": {
  "kernelspec": {
   "display_name": "Python 3",
   "language": "python",
   "name": "python3"
  },
  "language_info": {
   "codemirror_mode": {
    "name": "ipython",
    "version": 3
   },
   "file_extension": ".py",
   "mimetype": "text/x-python",
   "name": "python",
   "nbconvert_exporter": "python",
   "pygments_lexer": "ipython3",
   "version": "3.7.4"
  }
 },
 "nbformat": 4,
 "nbformat_minor": 2
}
