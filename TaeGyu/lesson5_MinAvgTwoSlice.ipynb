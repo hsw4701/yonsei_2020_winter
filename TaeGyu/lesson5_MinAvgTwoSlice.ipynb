{
 "cells": [
  {
   "cell_type": "markdown",
   "metadata": {},
   "source": [
    "# O(n^3)"
   ]
  },
  {
   "cell_type": "code",
   "execution_count": 2,
   "metadata": {},
   "outputs": [
    {
     "data": {
      "text/plain": [
       "1"
      ]
     },
     "execution_count": 2,
     "metadata": {},
     "output_type": "execute_result"
    }
   ],
   "source": [
    "A=[4,2,2,5,1,5,8]\n",
    "X=[]\n",
    "Y=[]\n",
    "sum=0\n",
    "k=1\n",
    "j=1\n",
    "while len(A)>1:\n",
    "    for i in A:\n",
    "        sum += i\n",
    "        Y.append(i)\n",
    "        if sum != i:\n",
    "            X.append([sum/k,len(Y)-k,k])\n",
    "        k += 1\n",
    "    sum=0\n",
    "    k=1\n",
    "    del A[0]\n",
    "    Y=[0]*j\n",
    "    j += 1\n",
    "X.sort()\n",
    "X[0][1]"
   ]
  },
  {
   "cell_type": "code",
   "execution_count": 55,
   "metadata": {},
   "outputs": [
    {
     "name": "stdout",
     "output_type": "stream",
     "text": [
      "[[0, 1, 4.0], [0, 2, 3.0], [0, 3, 2.6666666666666665], [0, 4, 3.25], [0, 5, 2.8], [0, 6, 3.1666666666666665], [0, 7, 3.857142857142857], [1, 1, 2.0], [1, 2, 2.0], [1, 3, 3.0], [1, 4, 2.5], [1, 5, 3.0], [1, 6, 3.8333333333333335], [2, 1, 2.0], [2, 2, 3.5], [2, 3, 2.6666666666666665], [2, 4, 3.25], [2, 5, 4.2], [3, 1, 5.0], [3, 2, 3.0], [3, 3, 3.6666666666666665], [3, 4, 4.75], [4, 1, 1.0], [4, 2, 3.0], [4, 3, 4.666666666666667], [5, 1, 5.0], [5, 2, 6.5]] 2.0 2\n"
     ]
    }
   ],
   "source": [
    "A=[4,2,2,5,1,5,8]\n",
    "X=[]\n",
    "Y=[]\n",
    "Z=[]\n",
    "W=[]\n",
    "sum=0\n",
    "k=1\n",
    "j=1\n",
    "while len(A)>1:\n",
    "    for i in A:\n",
    "        sum += i\n",
    "        Y.append(i)\n",
    "        X.append([len(Y)-k,k,sum/k])\n",
    "        k += 1\n",
    "    sum=0\n",
    "    k=1\n",
    "    del A[0]\n",
    "    Y=[0]*j\n",
    "    j += 1\n",
    "for i in X:\n",
    "     if i[1] > 1 :\n",
    "        Z.append(i[2])\n",
    "n=min(Z)\n",
    "for i in X:\n",
    "    if i[2] == n and i[1] > 1:\n",
    "        W.append(i[1])\n",
    "print(X, min(Z), min(W))"
   ]
  },
  {
   "cell_type": "code",
   "execution_count": 79,
   "metadata": {},
   "outputs": [
    {
     "name": "stdout",
     "output_type": "stream",
     "text": [
      "[2, 2, 5, 1, 5, 8]\n",
      "[2, 5, 1, 5, 8]\n",
      "[5, 1, 5, 8]\n",
      "[1, 5, 8]\n",
      "[5, 8]\n",
      "[8]\n",
      "[[2.0, 1, 2], [2.5, 1, 4], [2.6666666666666665, 0, 3], [2.6666666666666665, 2, 3], [2.8, 0, 5], [3.0, 0, 2], [3.0, 1, 3], [3.0, 1, 5], [3.0, 3, 2], [3.0, 4, 2], [3.1666666666666665, 0, 6], [3.25, 0, 4], [3.25, 2, 4], [3.5, 2, 2], [3.6666666666666665, 3, 3], [3.8333333333333335, 1, 6], [3.857142857142857, 0, 7], [4.2, 2, 5], [4.666666666666667, 4, 3], [4.75, 3, 4], [6.5, 5, 2]]\n"
     ]
    }
   ],
   "source": [
    "A=[4,2,2,5,1,5,8]\n",
    "X=[]\n",
    "Y=[]\n",
    "Z=[]\n",
    "sum=0\n",
    "k=1\n",
    "j=1\n",
    "while len(A)>1:\n",
    "    for i in A:\n",
    "        sum += i\n",
    "        Y.append(i)\n",
    "        X.append([sum/k,len(Y)-k,k])\n",
    "        k += 1\n",
    "    sum=0\n",
    "    k=1\n",
    "    del A[0]\n",
    "    print(A)\n",
    "    Y=[0]*j\n",
    "    j += 1\n",
    "for i in X:\n",
    "     if i[2] > 1 :\n",
    "        Z.append(i)\n",
    "Z.sort()\n",
    "print(Z)"
   ]
  },
  {
   "cell_type": "code",
   "execution_count": null,
   "metadata": {},
   "outputs": [],
   "source": []
  }
 ],
 "metadata": {
  "kernelspec": {
   "display_name": "Python 3",
   "language": "python",
   "name": "python3"
  },
  "language_info": {
   "codemirror_mode": {
    "name": "ipython",
    "version": 3
   },
   "file_extension": ".py",
   "mimetype": "text/x-python",
   "name": "python",
   "nbconvert_exporter": "python",
   "pygments_lexer": "ipython3",
   "version": "3.7.4"
  }
 },
 "nbformat": 4,
 "nbformat_minor": 2
}
