{
 "cells": [
  {
   "cell_type": "markdown",
   "metadata": {},
   "source": [
    "# correctness : 100%, performance : 60%, total : 75%"
   ]
  },
  {
   "cell_type": "code",
   "execution_count": 24,
   "metadata": {},
   "outputs": [
    {
     "name": "stdout",
     "output_type": "stream",
     "text": [
      "\n"
     ]
    }
   ],
   "source": [
    "S=\"{([])}[]()\"\n",
    "def solution(S):\n",
    "    while len(S)>0:\n",
    "        S_pop=S.replace(\"()\",\"\").replace(\"[]\",\"\").replace(\"{}\",\"\")\n",
    "        if len(S) == len(S_pop): return 0\n",
    "        S = S_pop\n",
    "    return len(S)+1"
   ]
  },
  {
   "cell_type": "markdown",
   "metadata": {},
   "source": [
    "# O(n)"
   ]
  },
  {
   "cell_type": "code",
   "execution_count": 106,
   "metadata": {},
   "outputs": [
    {
     "data": {
      "text/plain": [
       "0"
      ]
     },
     "execution_count": 106,
     "metadata": {},
     "output_type": "execute_result"
    }
   ],
   "source": [
    "S=\"()()(\"\n",
    "def solution(S):\n",
    "    stack=[]\n",
    "    dict = {\"(\":0, \"{\":1, \"[\":2, \")\":5, \"}\":4, \"]\":3}\n",
    "    p = 0\n",
    "    for i in S:\n",
    "        n = len(stack)\n",
    "        if dict[i] <= 2:\n",
    "            stack.append(i)\n",
    "        if dict[i] > 2 and n > 0:\n",
    "            if dict[stack[n-1]] + dict[i] == 5:\n",
    "                stack.pop()\n",
    "            elif dict[stack[n-1]] + dict[i] != 5:\n",
    "                break\n",
    "        if dict[i] > 2 and n == 0:\n",
    "            stack.append(i)\n",
    "            break\n",
    "    if len(stack) == 0:\n",
    "        return p+1\n",
    "    return p\n",
    "solution(S)"
   ]
  },
  {
   "cell_type": "code",
   "execution_count": null,
   "metadata": {},
   "outputs": [],
   "source": []
  }
 ],
 "metadata": {
  "kernelspec": {
   "display_name": "Python 3",
   "language": "python",
   "name": "python3"
  },
  "language_info": {
   "codemirror_mode": {
    "name": "ipython",
    "version": 3
   },
   "file_extension": ".py",
   "mimetype": "text/x-python",
   "name": "python",
   "nbconvert_exporter": "python",
   "pygments_lexer": "ipython3",
   "version": "3.6.8"
  }
 },
 "nbformat": 4,
 "nbformat_minor": 2
}
