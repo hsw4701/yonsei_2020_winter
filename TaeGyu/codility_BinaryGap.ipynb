{
 "cells": [
  {
   "cell_type": "code",
   "execution_count": 119,
   "metadata": {},
   "outputs": [],
   "source": [
    "def solution(N):\n",
    "    index=[]\n",
    "    index2=[]\n",
    "\n",
    "    a=bin(N)\n",
    "    b=a[2:]\n",
    "    print(b)\n",
    "    len(b)\n",
    "    for i in range(len(b)):\n",
    "        if int(b[i])==1:\n",
    "            index.append(i)\n",
    "    \n",
    "    for i in range(len(index)-1):\n",
    "        index2.append(index[i+1]-index[i]-1)\n",
    "    print(index2)\n",
    "    \n",
    "    if len(index)==1:\n",
    "        return 0\n",
    "    else:\n",
    "        return max(index2)\n",
    "    \n",
    "    "
   ]
  }
 ],
 "metadata": {
  "kernelspec": {
   "display_name": "Python 3",
   "language": "python",
   "name": "python3"
  },
  "language_info": {
   "codemirror_mode": {
    "name": "ipython",
    "version": 3
   },
   "file_extension": ".py",
   "mimetype": "text/x-python",
   "name": "python",
   "nbconvert_exporter": "python",
   "pygments_lexer": "ipython3",
   "version": "3.6.8"
  }
 },
 "nbformat": 4,
 "nbformat_minor": 2
}
