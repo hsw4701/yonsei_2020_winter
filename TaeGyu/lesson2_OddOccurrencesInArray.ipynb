{
 "cells": [
  {
   "cell_type": "code",
   "execution_count": null,
   "metadata": {},
   "outputs": [],
   "source": [
    "A=[9,3,9,3,9,7,9,7,1]\n",
    "B=set(A)\n",
    "print(B)\n",
    "B.remove(9)\n",
    "B.remove(3)\n",
    "print(B)\n",
    "A.count(A[0])\n",
    "len(A)\n",
    "B"
   ]
  },
  {
   "cell_type": "code",
   "execution_count": null,
   "metadata": {},
   "outputs": [],
   "source": [
    "C=[]\n",
    "E=set(A)\n",
    "for i in range(len(A)):\n",
    "    if A.count(A[i])%2 == 1:\n",
    "        C.append(A[i])\n",
    "print(C)\n",
    "def solution(A):\n",
    "    X = set(A)\n",
    "    for i in X:\n",
    "        if A.count(i) % 2 == 1:\n",
    "            result = i\n",
    "            break\n",
    "    return result\n",
    "solution(A)\n",
    "\n",
    "\n",
    "\n",
    "\n",
    "    "
   ]
  },
  {
   "cell_type": "code",
   "execution_count": null,
   "metadata": {},
   "outputs": [],
   "source": []
  },
  {
   "cell_type": "code",
   "execution_count": null,
   "metadata": {},
   "outputs": [],
   "source": [
    "7 % 3"
   ]
  }
 ],
 "metadata": {
  "kernelspec": {
   "display_name": "Python 3",
   "language": "python",
   "name": "python3"
  },
  "language_info": {
   "codemirror_mode": {
    "name": "ipython",
    "version": 3
   },
   "file_extension": ".py",
   "mimetype": "text/x-python",
   "name": "python",
   "nbconvert_exporter": "python",
   "pygments_lexer": "ipython3",
   "version": "3.7.4"
  }
 },
 "nbformat": 4,
 "nbformat_minor": 2
}
