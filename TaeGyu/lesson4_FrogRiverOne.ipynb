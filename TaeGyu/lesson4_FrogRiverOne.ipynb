{
 "cells": [
  {
   "cell_type": "markdown",
   "metadata": {},
   "source": [
    "# O(N^2)"
   ]
  },
  {
   "cell_type": "code",
   "execution_count": 138,
   "metadata": {},
   "outputs": [
    {
     "name": "stdout",
     "output_type": "stream",
     "text": [
      "[0, 2, 1, 2] {0, 1, 2} 4\n"
     ]
    }
   ],
   "source": [
    "def solution(X,A):\n",
    "    B=[]\n",
    "    leaf=[0]*(X+1)\n",
    "    for i in range(len(A)):\n",
    "        leaf[A[i]] += 1\n",
    "        if leaf.count(0)==1:\n",
    "            B.append(sum(leaf)-1)\n",
    "            break\n",
    "    if leaf.count(0)>1:\n",
    "        B.append(-1)\n",
    "    return print(leaf,set(leaf),B[0])\n",
    "A=[1,3,1,3,2,1,3]\n",
    "solution(3,A)"
   ]
  },
  {
   "cell_type": "code",
   "execution_count": 99,
   "metadata": {},
   "outputs": [
    {
     "name": "stdout",
     "output_type": "stream",
     "text": [
      "[0, 8, 1, 1, 1] []\n"
     ]
    }
   ],
   "source": [
    "def solution(A,X):\n",
    "    B=[]\n",
    "    leaf=[0]*(X+1)\n",
    "    for i in range(len(A)):\n",
    "        leaf[A[i]] += 1\n",
    "        if leaf[X]==1 and leaf.count(0)==1:\n",
    "            break\n",
    "            B.append(sum(leaf)-1)\n",
    "\n",
    "    return print(leaf,B)\n",
    "A=[1,1,1,1,1,1,1,3,2,1,4]\n",
    "solution(A,4)"
   ]
  },
  {
   "cell_type": "markdown",
   "metadata": {},
   "source": [
    "# O(N)"
   ]
  },
  {
   "cell_type": "code",
   "execution_count": 139,
   "metadata": {},
   "outputs": [],
   "source": [
    "def solution(X,A):\n",
    "    leaf=[0]*(X+1)\n",
    "    S=0\n",
    "    for i in range(len(A)):\n",
    "        if leaf[A[i]] == 0:\n",
    "            leaf[A[i]] = 1\n",
    "            S += 1\n",
    "        if S==X:\n",
    "            return(i)\n",
    "            break\n",
    "    return(-1)"
   ]
  },
  {
   "cell_type": "code",
   "execution_count": null,
   "metadata": {},
   "outputs": [],
   "source": []
  }
 ],
 "metadata": {
  "kernelspec": {
   "display_name": "Python 3",
   "language": "python",
   "name": "python3"
  },
  "language_info": {
   "codemirror_mode": {
    "name": "ipython",
    "version": 3
   },
   "file_extension": ".py",
   "mimetype": "text/x-python",
   "name": "python",
   "nbconvert_exporter": "python",
   "pygments_lexer": "ipython3",
   "version": "3.7.4"
  }
 },
 "nbformat": 4,
 "nbformat_minor": 2
}
