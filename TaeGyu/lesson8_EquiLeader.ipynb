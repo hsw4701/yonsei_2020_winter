{
 "cells": [
  {
   "cell_type": "markdown",
   "metadata": {},
   "source": [
    "# O(n)"
   ]
  },
  {
   "cell_type": "code",
   "execution_count": 2,
   "metadata": {},
   "outputs": [
    {
     "data": {
      "text/plain": [
       "2"
      ]
     },
     "execution_count": 2,
     "metadata": {},
     "output_type": "execute_result"
    }
   ],
   "source": [
    "A = [4,3,4,4,4,2]\n",
    "def solution(A):\n",
    "    n = len(A)\n",
    "    size = 0\n",
    "    candidate = -1\n",
    "    leader = -1\n",
    "    for i in range(n):\n",
    "        if size == 0:\n",
    "            size += 1\n",
    "            value = A[i]\n",
    "        else:\n",
    "            if value != A[i]:\n",
    "                size -= 1\n",
    "            else:\n",
    "                size += 1\n",
    "    if size > 0:\n",
    "        candidate = value\n",
    "    count = 0\n",
    "    for i in range(n):\n",
    "        if A[i] == candidate:\n",
    "            count += 1\n",
    "    if count > n // 2:\n",
    "        leader = candidate\n",
    "    \n",
    "    size2 = 0\n",
    "    count2 = 0\n",
    "    equi = 0\n",
    "    for i in range(n):\n",
    "        size2 += 1\n",
    "        if A[i] == leader:\n",
    "            count2 += 1\n",
    "        if count2 > size2 // 2 and count-count2 > (n-size2) // 2:\n",
    "            equi += 1\n",
    "    return equi\n",
    "solution(A)"
   ]
  }
 ],
 "metadata": {
  "kernelspec": {
   "display_name": "Python 3",
   "language": "python",
   "name": "python3"
  },
  "language_info": {
   "codemirror_mode": {
    "name": "ipython",
    "version": 3
   },
   "file_extension": ".py",
   "mimetype": "text/x-python",
   "name": "python",
   "nbconvert_exporter": "python",
   "pygments_lexer": "ipython3",
   "version": "3.7.4"
  }
 },
 "nbformat": 4,
 "nbformat_minor": 2
}
